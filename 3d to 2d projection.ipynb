{
 "cells": [
  {
   "cell_type": "markdown",
   "metadata": {},
   "source": [
    "Demo for projecting 3d coordinates to 2d viewport.\n",
    "Basically just an implementation of https://en.wikipedia.org/wiki/3D_projection#Perspective_projection\n",
    "Need to make sure I understand it in Python before implementing in C"
   ]
  },
  {
   "cell_type": "code",
   "execution_count": null,
   "metadata": {},
   "outputs": [],
   "source": [
    "import numpy as np\n",
    "import matplotlib.pyplot as plt\n",
    "from ipywidgets import interact,fixed\n",
    "import ipywidgets as widgets"
   ]
  },
  {
   "cell_type": "code",
   "execution_count": 2,
   "metadata": {},
   "outputs": [],
   "source": [
    "def Project2d(a,c,theta,e):\n",
    "    x = a[0]-c[0]\n",
    "    y = a[1]-c[1]\n",
    "    z = a[2]-c[2]\n",
    "    \n",
    "    cx = np.cos(theta[0])\n",
    "    cy = np.cos(theta[1])\n",
    "    cz = np.cos(theta[2])\n",
    "    \n",
    "    sx = np.sin(theta[0])\n",
    "    sy = np.sin(theta[1])\n",
    "    sz = np.sin(theta[2])\n",
    "    \n",
    "    dx =  cy*(sz*y+cz*x)-sy*z\n",
    "    dy = sx*(cy*z+sy*(sz*y+cz*x)) + cx*(cz*y-sz*x)\n",
    "    dz = cx*(cy*z+sy*(sz*y+cz*x)) - sx*(cz*y-sz*x)\n",
    "    \n",
    "    bx = (e[2]/dz)*dx + e[0]\n",
    "    by = (e[2]/dz)*dy + e[1]\n",
    "    \n",
    "    \n",
    "    return (bx,by)\n",
    "\n",
    "\n",
    "def plot2d(x,y,z):\n",
    "    \n",
    "    camera = [7,7,7]\n",
    "    thet = [x,y,z]#[np.pi/4,0,np.pi/4]\n",
    "    alpha = np.pi/2 #90 degree fov\n",
    "    ez = 1/np.tan(alpha/2)\n",
    "    e = [0,0,ez]\n",
    "\n",
    "    xpr = [Project2d(k,camera,thet,e) for k in xaxis]\n",
    "    ypr = [Project2d(k,camera,thet,e) for k in yaxis]\n",
    "    zpr = [Project2d(k,camera,thet,e) for k in zaxis]\n",
    "    \n",
    "    x = np.array(xpr)\n",
    "    y = np.array(ypr)\n",
    "    z = np.array(zpr)\n",
    "    \n",
    "    plt.scatter(x[:,0],x[:,1], color = 'b')\n",
    "    plt.scatter(y[:,0],y[:,1], color = 'g')\n",
    "    plt.scatter(z[:,0],z[:,1], color = 'r')\n",
    "    \n",
    "    plt.xlim([-1,1])\n",
    "    plt.ylim([-1,1])\n",
    "    \n",
    "xaxis = [[i,0,0] for i in range(10)]\n",
    "yaxis = [[0,i,0] for i in range(10)]\n",
    "zaxis = [[0,0,i] for i in range(10)]"
   ]
  },
  {
   "cell_type": "code",
   "execution_count": 3,
   "metadata": {},
   "outputs": [
    {
     "data": {
      "application/vnd.jupyter.widget-view+json": {
       "model_id": "aab664deec02492e85ba5958597e34ba",
       "version_major": 2,
       "version_minor": 0
      },
      "text/plain": [
       "interactive(children=(FloatSlider(value=-0.7853981633974483, description='x', max=3.141592653589793, min=-3.14…"
      ]
     },
     "metadata": {},
     "output_type": "display_data"
    },
    {
     "data": {
      "text/plain": [
       "<function __main__.plot2d(x, y, z)>"
      ]
     },
     "execution_count": 3,
     "metadata": {},
     "output_type": "execute_result"
    }
   ],
   "source": [
    "interact(plot2d,x = widgets.FloatSlider(min=-np.pi, max=np.pi, step=0.2, value=-np.pi/4),\n",
    "               y = widgets.FloatSlider(min=-np.pi, max=np.pi, step=0.2, value=0),\n",
    "               z = widgets.FloatSlider(min=-np.pi, max=np.pi, step=0.2, value=-np.pi/4))"
   ]
  }
 ],
 "metadata": {
  "kernelspec": {
   "display_name": "Python 3",
   "language": "python",
   "name": "python3"
  },
  "language_info": {
   "codemirror_mode": {
    "name": "ipython",
    "version": 3
   },
   "file_extension": ".py",
   "mimetype": "text/x-python",
   "name": "python",
   "nbconvert_exporter": "python",
   "pygments_lexer": "ipython3",
   "version": "3.7.7"
  }
 },
 "nbformat": 4,
 "nbformat_minor": 4
}
